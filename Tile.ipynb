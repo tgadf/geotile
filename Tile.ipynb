{
 "cells": [
  {
   "cell_type": "markdown",
   "metadata": {},
   "source": [
    "# Geotile Notebook"
   ]
  },
  {
   "cell_type": "code",
   "execution_count": 35,
   "metadata": {
    "collapsed": false
   },
   "outputs": [
    {
     "name": "stdout",
     "output_type": "stream",
     "text": [
      "The autoreload extension is already loaded. To reload it, use:\n",
      "  %reload_ext autoreload\n"
     ]
    },
    {
     "data": {
      "text/html": [
       "<style>.container { width:100% !important; }</style>"
      ],
      "text/plain": [
       "<IPython.core.display.HTML object>"
      ]
     },
     "metadata": {},
     "output_type": "display_data"
    },
    {
     "data": {
      "text/html": [
       "<style>div.output_area{max-height:10000px;overflow:scroll;}</style>"
      ],
      "text/plain": [
       "<IPython.core.display.HTML object>"
      ]
     },
     "metadata": {},
     "output_type": "display_data"
    },
    {
     "name": "stdout",
     "output_type": "stream",
     "text": [
      "Python: 3.6.0 |Anaconda 4.3.0 (64-bit)| (default, Dec 23 2016, 12:22:00) \n",
      "[GCC 4.4.7 20120313 (Red Hat 4.4.7-1)]\n",
      "Notebook Last Run Initiated: 2019-01-04 13:48:02.572443\n"
     ]
    }
   ],
   "source": [
    "## Basic stuff\n",
    "%load_ext autoreload\n",
    "%autoreload\n",
    "from IPython.core.display import display, HTML\n",
    "display(HTML(\"<style>.container { width:100% !important; }</style>\"))\n",
    "display(HTML(\"\"\"<style>div.output_area{max-height:10000px;overflow:scroll;}</style>\"\"\"))\n",
    "\n",
    "from geotile import geotile\n",
    "\n",
    "## Python Version\n",
    "import sys\n",
    "print(\"Python: {0}\".format(sys.version))\n",
    "\n",
    "import datetime as dt\n",
    "start = dt.datetime.now()\n",
    "print(\"Notebook Last Run Initiated: \"+str(start))"
   ]
  },
  {
   "cell_type": "markdown",
   "metadata": {},
   "source": [
    "# Example"
   ]
  },
  {
   "cell_type": "code",
   "execution_count": 36,
   "metadata": {
    "collapsed": false
   },
   "outputs": [
    {
     "name": "stdout",
     "output_type": "stream",
     "text": [
      "ID -> 11530039147213892100\n",
      "GPS -> (41.750879, -88.153525)\n",
      "Delta -> [3.989999999731708e-05, 1.0199999991300501e-05]\n",
      "\n",
      "BBox -> [(41.750793, -88.15361), (41.750965, -88.15361), (41.750965, -88.153439), (41.750793, -88.153439), (41.750793, -88.15361)]\n",
      "[41.75079, -88.15361] \t [-5e-05, -7e-05]\n",
      "[41.75097, -88.15361] \t [0.00013, -7e-05]\n",
      "[41.75097, -88.15344] \t [0.00013, 0.0001]\n",
      "[41.75079, -88.15344] \t [-5e-05, 0.0001]\n",
      "[41.75079, -88.15361] \t [-5e-05, -7e-05]\n"
     ]
    }
   ],
   "source": [
    "lat =  41.7508391\n",
    "lng = -88.1535352\n",
    "\n",
    "tile = geotile()\n",
    "pid = tile.encode(latitude=lat, longitude=lng, level=20, debug=False)\n",
    "print(\"ID -> {0}\".format(pid))\n",
    "corr = tile.decode(pid)\n",
    "print(\"GPS -> {0}\".format(corr))\n",
    "print(\"Delta -> {0}\\n\".format([corr[0]-lat, corr[1]-lng]))\n",
    "\n",
    "bbox = tile.getBBox(pid, returnPoints=True)\n",
    "print(\"BBox -> {0}\".format(bbox))\n",
    "for val in bbox:\n",
    "    print([round(val[0],5), round(val[1],5)],'\\t',[round(val[0]-lat,5), round(val[1]-lng,5)])"
   ]
  },
  {
   "cell_type": "markdown",
   "metadata": {},
   "source": [
    "# Navigate Tiles"
   ]
  },
  {
   "cell_type": "code",
   "execution_count": null,
   "metadata": {
    "collapsed": true
   },
   "outputs": [],
   "source": [
    "nid = tile.navigate(partitionId=pid, orientation=\"north\", step=1, debug=False)\n",
    "corr = tile.decode(nid)\n",
    "print(\"GPS -> {0}\".format(corr))\n"
   ]
  },
  {
   "cell_type": "code",
   "execution_count": 5,
   "metadata": {
    "collapsed": false
   },
   "outputs": [],
   "source": [
    "#LEVEL_BIT_MASK       = 0b1111100000000000000000000000000000000000000000000000000000000000\n",
    "LEVEL_BIT_MASK = 17870283321406128128\n",
    "#COLUMN_BIT_MASK      = 0b0000000000000000000000000000000000111111111111111111111111111111\n",
    "COLUMN_BIT_MASK = 1073741823\n",
    "#ROW_BIT_MASK         = 0b0000011111111111111111111111111111000000000000000000000000000000\n",
    "ROW_BIT_MASK = 576460751229681664"
   ]
  },
  {
   "cell_type": "code",
   "execution_count": 6,
   "metadata": {
    "collapsed": false
   },
   "outputs": [
    {
     "data": {
      "text/plain": [
       "'0b1111100000000000000000000000000000000000000000000000000000000000'"
      ]
     },
     "execution_count": 6,
     "metadata": {},
     "output_type": "execute_result"
    }
   ],
   "source": [
    "bin(LEVEL_BIT_MASK)"
   ]
  },
  {
   "cell_type": "code",
   "execution_count": 15,
   "metadata": {
    "collapsed": false
   },
   "outputs": [],
   "source": [
    "bbox"
   ]
  },
  {
   "cell_type": "code",
   "execution_count": 7,
   "metadata": {
    "collapsed": false
   },
   "outputs": [
    {
     "data": {
      "text/plain": [
       "'0b111111111111111111111111111111'"
      ]
     },
     "execution_count": 7,
     "metadata": {},
     "output_type": "execute_result"
    }
   ],
   "source": [
    "bin(COLUMN_BIT_MASK)"
   ]
  },
  {
   "cell_type": "code",
   "execution_count": 10,
   "metadata": {
    "collapsed": false
   },
   "outputs": [
    {
     "data": {
      "text/plain": [
       "576460751229681664"
      ]
     },
     "execution_count": 10,
     "metadata": {},
     "output_type": "execute_result"
    }
   ],
   "source": [
    "int(ROW_BIT_MASK)"
   ]
  },
  {
   "cell_type": "markdown",
   "metadata": {
    "collapsed": true
   },
   "source": [
    "# Plots"
   ]
  },
  {
   "cell_type": "code",
   "execution_count": 37,
   "metadata": {
    "collapsed": false
   },
   "outputs": [
    {
     "name": "stdout",
     "output_type": "stream",
     "text": [
      "[(41.750793, -88.15361), (41.750965, -88.15361), (41.750965, -88.153439), (41.750793, -88.153439), (41.750793, -88.15361)]\n"
     ]
    },
    {
     "data": {
      "text/html": [
       "<div style=\"width:100%;\"><div style=\"position:relative;width:100%;height:0;padding-bottom:60%;\"><iframe src=\"data:text/html;charset=utf-8;base64,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\" style=\"position:absolute;width:100%;height:100%;left:0;top:0;border:none !important;\" allowfullscreen webkitallowfullscreen mozallowfullscreen></iframe></div></div>"
      ],
      "text/plain": [
       "<folium.folium.Map at 0x7f5f35cd4f28>"
      ]
     },
     "execution_count": 37,
     "metadata": {},
     "output_type": "execute_result"
    }
   ],
   "source": [
    "import folium\n",
    "m = folium.Map(location=[lat, lng], zoom_start=18)\n",
    "folium.Marker(location=[lat, lng], icon=folium.Icon(color='blue', icon_color='white', icon='car', angle=0, prefix='fa'), popup=\"Center\").add_to(m)\n",
    "#bbox = bbox.append(bbox[0])\n",
    "print(bbox)\n",
    "folium.PolyLine(bbox, color='black', weight=5, opacity=1, popup=\"some text\").add_to(m)\n",
    "m"
   ]
  },
  {
   "cell_type": "code",
   "execution_count": null,
   "metadata": {
    "collapsed": true
   },
   "outputs": [],
   "source": []
  }
 ],
 "metadata": {
  "kernelspec": {
   "display_name": "Python 3",
   "language": "python",
   "name": "python3"
  },
  "language_info": {
   "codemirror_mode": {
    "name": "ipython",
    "version": 3
   },
   "file_extension": ".py",
   "mimetype": "text/x-python",
   "name": "python",
   "nbconvert_exporter": "python",
   "pygments_lexer": "ipython3",
   "version": "3.6.0"
  }
 },
 "nbformat": 4,
 "nbformat_minor": 2
}
